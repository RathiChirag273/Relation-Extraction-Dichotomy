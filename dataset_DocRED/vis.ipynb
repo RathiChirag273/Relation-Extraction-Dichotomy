{
 "cells": [
  {
   "cell_type": "markdown",
   "metadata": {},
   "source": [
    "# Visualizing with DocRED"
   ]
  },
  {
   "cell_type": "code",
   "execution_count": 1,
   "metadata": {},
   "outputs": [
    {
     "name": "stderr",
     "output_type": "stream",
     "text": [
      "C:\\Users\\Robin\\AppData\\Local\\Temp\\ipykernel_21088\\3374145955.py:8: DeprecationWarning: support for supplying keyword arguments to pathlib.PurePath is deprecated and scheduled for removal in Python 3.14\n",
      "  DIR_DATASET = Path(current_dir = os.getcwd()).parent.absolute()\n"
     ]
    }
   ],
   "source": [
    "# imports\n",
    "import json\n",
    "from pathlib import Path\n",
    "import os\n",
    "import sys\n",
    "\n",
    "# Paths\n",
    "DIR_DATASET = Path(current_dir = os.getcwd()).parent.absolute()\n",
    "DATA_DEV = DIR_DATASET/'dev.json' \n",
    "DATA_TRAIN = DIR_DATASET/'train_annotated.json'\n",
    "DIR_VIS = DIR_DATASET/'vis'\n",
    "DIR_VIS.mkdir(exist_ok=True)\n",
    "\n",
    "PATH_UTILS = DIR_DATASET.parent.absolute().__str__()\n",
    "\n",
    "# add local lib to path\n",
    "if PATH_UTILS not in sys.path:\n",
    "    sys.path.append(PATH_UTILS)"
   ]
  },
  {
   "cell_type": "code",
   "execution_count": 2,
   "metadata": {},
   "outputs": [],
   "source": [
    "# load/parse json dataset\n",
    "fData = open(DATA_DEV.absolute(), 'r', encoding='utf-8')\n",
    "\n",
    "data = json.load(fData)[:10] # load a small subset for testing\n",
    "\n",
    "# visualize sample\n",
    "from utils import vis_text\n",
    "\n",
    "for i, sample in enumerate(data):\n",
    "    img = vis_text(sample)\n",
    "    img.save((DIR_VIS/f\"{i+1}.png\").__str__())"
   ]
  }
 ],
 "metadata": {
  "kernelspec": {
   "display_name": "DocRED",
   "language": "python",
   "name": "python3"
  },
  "language_info": {
   "codemirror_mode": {
    "name": "ipython",
    "version": 3
   },
   "file_extension": ".py",
   "mimetype": "text/x-python",
   "name": "python",
   "nbconvert_exporter": "python",
   "pygments_lexer": "ipython3",
   "version": "3.12.9"
  }
 },
 "nbformat": 4,
 "nbformat_minor": 2
}
