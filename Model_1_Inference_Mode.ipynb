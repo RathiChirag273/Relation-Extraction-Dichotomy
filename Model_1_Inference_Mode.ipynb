{
 "cells": [
  {
   "cell_type": "markdown",
   "metadata": {},
   "source": [
    "# Including Necessities in a function for a user friendly input"
   ]
  },
  {
   "cell_type": "code",
   "execution_count": 3,
   "metadata": {},
   "outputs": [],
   "source": [
    "from utils.preprocessing import DOCRED_Processing\n",
    "import joblib\n",
    "import numpy as np\n",
    "\n",
    "def get_output(input):\n",
    "    input[\"sentence\"] = [input[\"sentence\"][0].lower()]\n",
    "    input[\"entity1\"] = [input[\"entity1\"][0].lower()]\n",
    "    input[\"entity2\"] = [input[\"entity2\"][0].lower()]\n",
    "    input[\"sent_tokens\"] = [input[\"sentence\"][0].split()]\n",
    "    test = DOCRED_Processing(input, is_input=True)\n",
    "    modelpoly = joblib.load('./checkpoints/SVM_POLY_MODEL.pkl')\n",
    "    Y_pred = modelpoly.predict_proba(test.df)\n",
    "    max_classes = np.argmax(Y_pred, axis=1)\n",
    "    rel_label = modelpoly.classes_\n",
    "    for i in range(len(Y_pred)):\n",
    "        print(f\"'{test.df['entity1'][i]}' -->  '{rel_label[max_classes][i]}'  --> '{test.df['entity2'][i]}'\")\n",
    "    "
   ]
  },
  {
   "cell_type": "markdown",
   "metadata": {},
   "source": [
    "# Method of giving input to the above function for relation extraction\n",
    "\n",
    "note that though relations are extracted, we dont claim that the extracted relations will always be correct."
   ]
  },
  {
   "cell_type": "code",
   "execution_count": 5,
   "metadata": {},
   "outputs": [
    {
     "name": "stdout",
     "output_type": "stream",
     "text": [
      "'leonardo' -->  'date of death'  --> 'france'\n"
     ]
    }
   ],
   "source": [
    "#input new sentence and its entities\n",
    "input = {\n",
    "    \"entity1\": [\"Leonardo\"],\n",
    "    \"entity2\": [\"France\"],\n",
    "    \"sentence\": [\"Leonardo passed away in Amboise, France.\"]\n",
    "}\n",
    "\n",
    "get_output(input)"
   ]
  },
  {
   "cell_type": "code",
   "execution_count": 6,
   "metadata": {},
   "outputs": [
    {
     "name": "stdout",
     "output_type": "stream",
     "text": [
      "'tesla, inc.' -->  'founded by'  --> 'elon musk'\n"
     ]
    }
   ],
   "source": [
    "#input new sentence and its entities\n",
    "input = {\n",
    "    \"entity1\": [\"Tesla, Inc.\"],\n",
    "    \"entity2\": [\"Elon Musk\"],\n",
    "    \"sentence\": [\"Tesla, Inc. , an American electric vehicle and clean energy company founded by Elon Musk and others , operates globally but is officially registered as a company in the United States , where it conducts most of its business and manufacturing .\"]\n",
    "}\n",
    "\n",
    "get_output(input)"
   ]
  },
  {
   "cell_type": "code",
   "execution_count": 7,
   "metadata": {},
   "outputs": [
    {
     "name": "stdout",
     "output_type": "stream",
     "text": [
      "'apple inc.' -->  'inception'  --> 'united states'\n"
     ]
    }
   ],
   "source": [
    "#input new sentence and its entities\n",
    "input = {\n",
    "    \"entity1\": [\"Apple Inc.\"],\n",
    "    \"entity2\": [\"united states\"],\n",
    "    \"sentence\": [\"Apple Inc. is a technology company based in the United States .\"]\n",
    "}\n",
    "\n",
    "get_output(input)"
   ]
  },
  {
   "cell_type": "code",
   "execution_count": 8,
   "metadata": {},
   "outputs": [
    {
     "name": "stdout",
     "output_type": "stream",
     "text": [
      "'airasia zest' -->  'legislative body'  --> 'pasay city'\n"
     ]
    }
   ],
   "source": [
    "#input new sentence and its entities\n",
    "input = {\n",
    "    \"entity1\": [\"Airasia Zest\"],\n",
    "    \"entity2\": [\"Pasay City\"],\n",
    "    \"sentence\": [\"Zest Airways , Inc. operated as AirAsia Zest at the Ninoy Aquino International Airport in Pasay City .\"]\n",
    "}\n",
    "\n",
    "get_output(input)"
   ]
  },
  {
   "cell_type": "code",
   "execution_count": 9,
   "metadata": {},
   "outputs": [
    {
     "name": "stdout",
     "output_type": "stream",
     "text": [
      "'the airline' -->  'publication date'  --> 'in 2013'\n"
     ]
    }
   ],
   "source": [
    "#input new sentence and its entities\n",
    "input = {\n",
    "    \"entity1\": [\"The airline\"],\n",
    "    \"entity2\": [\"In 2013\"],\n",
    "    \"sentence\": [\"In 2013 , the airline became an affiliate of Philippines AirAsia operating their brand separately .\"]\n",
    "}\n",
    "\n",
    "get_output(input)\n"
   ]
  },
  {
   "cell_type": "markdown",
   "metadata": {},
   "source": [
    "# End of inference section"
   ]
  },
  {
   "cell_type": "code",
   "execution_count": null,
   "metadata": {},
   "outputs": [],
   "source": []
  }
 ],
 "metadata": {
  "kernelspec": {
   "display_name": "docred",
   "language": "python",
   "name": "python3"
  },
  "language_info": {
   "codemirror_mode": {
    "name": "ipython",
    "version": 3
   },
   "file_extension": ".py",
   "mimetype": "text/x-python",
   "name": "python",
   "nbconvert_exporter": "python",
   "pygments_lexer": "ipython3",
   "version": "3.12.9"
  }
 },
 "nbformat": 4,
 "nbformat_minor": 2
}
